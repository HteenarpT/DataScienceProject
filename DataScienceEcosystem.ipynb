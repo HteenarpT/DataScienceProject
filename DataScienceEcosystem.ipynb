{
 "cells": [
  {
   "cell_type": "markdown",
   "id": "96694eb7-477d-4afc-8bc5-2b6396fbb471",
   "metadata": {},
   "source": [
    "# Data Science Tools and Ecosystem"
   ]
  },
  {
   "cell_type": "markdown",
   "id": "994ac2ee-3ca8-428e-aaf8-7590bac6e2db",
   "metadata": {},
   "source": [
    " In this notebook, Data Science Tools and Ecosystem are summarized.\n"
   ]
  },
  {
   "cell_type": "markdown",
   "id": "b1d30a5f-2053-4b5e-94d1-c276c0d28a2a",
   "metadata": {
    "tags": []
   },
   "source": [
    "### **Objectives:**\n",
    "- Exercise 1: Create a Jupyter Notebook\n",
    "- Exercise 2: Create markdown cell with title of the notebook\n",
    "- Exercise 3 - Create a markdown cell for an introduction\n",
    "- Exercise 4 - Create a markdown cell to list data science languages\n",
    "- Exercise 5 - Create a markdown cell to list data science libraries\n",
    "- Exercise 6 - Create a markdown cell with a table of Data Science tools\n",
    "- Exercise 7 - Create a markdown cell introducing arithmetic expression examples\n",
    "- Exercise 8 - Create a code cell to multiply and add numbers\n",
    "- Exercise 9 - Create a code cell to convert minutes to hours"
   ]
  },
  {
   "cell_type": "markdown",
   "id": "1d7b23a7-84ba-42cc-aa8f-dd187871f307",
   "metadata": {},
   "source": [
    "# Some of the popular languages that Data Scientists use are:\n",
    "1. Python\n",
    "2. R\n",
    "3. JavaScript\n",
    "4. Julia\n",
    "5. Scala\n",
    "6. SQL"
   ]
  },
  {
   "cell_type": "markdown",
   "id": "3089bf2a-b87a-4f24-8316-52f25fe82e90",
   "metadata": {},
   "source": [
    "# Some of the commonly used libraries used by Data Scientists include:\n",
    "1. Pandas\n",
    "2. Matplotlib\n",
    "3. Numpy\n",
    "4. Sklearn\n",
    "5. Scipy\n",
    "6. Seaborn\n",
    "7. Pytorch"
   ]
  },
  {
   "cell_type": "markdown",
   "id": "87b7e16a-8143-4d4e-8375-f768a1f96601",
   "metadata": {
    "tags": []
   },
   "source": [
    "|Data Science Tools|\n",
    "| ----------------- |\n",
    "|Apache Spark|\n",
    "|IBM SPSS|\n",
    "|Julia|\n",
    "|Jupyter Notebook|\n",
    "|Keras|\n",
    "|Matlab|\n",
    "|Matplotlib|"
   ]
  },
  {
   "cell_type": "markdown",
   "id": "ec844364-9187-4e58-a376-1ed159e99a07",
   "metadata": {},
   "source": [
    "### Below are a few examples of evaluating arithmetic expressions in Python\n"
   ]
  },
  {
   "cell_type": "code",
   "execution_count": 3,
   "id": "b7dc3659-165b-4361-9041-833a09db26e3",
   "metadata": {
    "tags": []
   },
   "outputs": [
    {
     "data": {
      "text/plain": [
       "17"
      ]
     },
     "execution_count": 3,
     "metadata": {},
     "output_type": "execute_result"
    }
   ],
   "source": [
    "#This a simple arithmetic expression to mutiply then add integers\n",
    "(3*4)+5"
   ]
  },
  {
   "cell_type": "code",
   "execution_count": 4,
   "id": "ef484cbb-a453-4ac2-98ef-eb8747399075",
   "metadata": {
    "tags": []
   },
   "outputs": [
    {
     "name": "stdout",
     "output_type": "stream",
     "text": [
      "Hours= 3\n"
     ]
    }
   ],
   "source": [
    "#This will convert 200 minutes to hours by diving by 60\n",
    "min=200\n",
    "h=min//60\n",
    "print(\"Hours=\",h)"
   ]
  },
  {
   "cell_type": "markdown",
   "id": "90b643d0-4bb2-41c8-a8e8-e4d91b4e24b8",
   "metadata": {
    "tags": []
   },
   "source": [
    "## **Author** \n",
    "T.Praneeth"
   ]
  }
 ],
 "metadata": {
  "kernelspec": {
   "display_name": "Python 3 (ipykernel)",
   "language": "python",
   "name": "python3"
  },
  "language_info": {
   "codemirror_mode": {
    "name": "ipython",
    "version": 3
   },
   "file_extension": ".py",
   "mimetype": "text/x-python",
   "name": "python",
   "nbconvert_exporter": "python",
   "pygments_lexer": "ipython3",
   "version": "3.10.4"
  }
 },
 "nbformat": 4,
 "nbformat_minor": 5
}
